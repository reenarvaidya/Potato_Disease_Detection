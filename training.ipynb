{
 "cells": [
  {
   "cell_type": "code",
   "execution_count": 50,
   "id": "c8aa64d0",
   "metadata": {},
   "outputs": [],
   "source": [
    "import tensorflow as tf\n",
    "import matplotlib.pyplot as plt\n",
    "from tensorflow.keras import models,layers\n",
    "import numpy as np"
   ]
  },
  {
   "cell_type": "code",
   "execution_count": 2,
   "id": "03da9b87-4d4f-4730-be6f-e64e6dde4d99",
   "metadata": {},
   "outputs": [],
   "source": [
    "IMAGE_SIZE = 256\n",
    "BATCH_SIZE = 32\n",
    "CHANNELS = 3\n",
    "EPOCH = 50"
   ]
  },
  {
   "cell_type": "code",
   "execution_count": null,
   "id": "0588fff4",
   "metadata": {},
   "outputs": [],
   "source": [
    "dataset = tf.keras.preprocessing.image_dataset_from_directory(\n",
    "    \"potato_dataset\",\n",
    "    batch_size=BATCH_SIZE,\n",
    "    image_size=IMAGE_SIZE,\n",
    "    shuffle=True\n",
    " )"
   ]
  },
  {
   "cell_type": "code",
   "execution_count": null,
   "id": "dc9c4d7d-2412-4d18-a5d6-94794437dd57",
   "metadata": {},
   "outputs": [],
   "source": [
    "classes_name  = dataset.class_names\n",
    "classes_name"
   ]
  },
  {
   "cell_type": "code",
   "execution_count": null,
   "id": "8dcf71c2-1cc0-4df2-8f91-eafd668b5fb9",
   "metadata": {},
   "outputs": [],
   "source": [
    "#it shows 68 because 32 set of images are created as batches 2152 total make 67.25 batches \n",
    "len(dataset)"
   ]
  },
  {
   "cell_type": "code",
   "execution_count": null,
   "id": "2fe04fdf-7233-4a8b-8441-bc2cc9707e65",
   "metadata": {},
   "outputs": [],
   "source": [
    "plt.figure(figsize=(10,10))\n",
    "for images, labels in dataset.take(1):\n",
    "    for i in range(12):\n",
    "        ax = plt.subplot(4,3,i+1)\n",
    "        plt.imshow(images[i].numpy().astype(\"uint8\"))\n",
    "        plt.axis(\"off\")\n",
    "        plt.title(classes_name[labels[i]])\n",
    "    "
   ]
  },
  {
   "cell_type": "code",
   "execution_count": 7,
   "id": "d6894991-05b6-4704-81fb-52c02e55e6b7",
   "metadata": {},
   "outputs": [],
   "source": [
    "train_size = 0.8\n",
    "training_batch_size=int(len(dataset)*0.8)\n"
   ]
  },
  {
   "cell_type": "code",
   "execution_count": null,
   "id": "b4cfd6c7-facf-4ca2-bd25-4bb7d91e245d",
   "metadata": {},
   "outputs": [],
   "source": [
    "training_dataset = dataset.take(training_batch_size)\n",
    "len(training_dataset)\n",
    "\n"
   ]
  },
  {
   "cell_type": "code",
   "execution_count": null,
   "id": "2033b802-b124-4dfd-b06d-cb4930bbce40",
   "metadata": {},
   "outputs": [],
   "source": [
    "test_dataset = dataset.skip(54)\n",
    "len(test_dataset)\n"
   ]
  },
  {
   "cell_type": "code",
   "execution_count": null,
   "id": "fc2cae22-99e6-4305-b378-5e4912f5293b",
   "metadata": {},
   "outputs": [],
   "source": [
    "val_size = 0.1\n",
    "val_dataset = test_dataset.take(6)\n",
    "len(val_dataset)"
   ]
  },
  {
   "cell_type": "code",
   "execution_count": null,
   "id": "c9f6383a-af45-4e9c-ac5e-7d1e61b2932d",
   "metadata": {},
   "outputs": [],
   "source": [
    "test_dataset = test_dataset.skip(6)\n",
    "len(test_dataset)"
   ]
  },
  {
   "cell_type": "code",
   "execution_count": 12,
   "id": "d140d543-7512-4760-b6d6-8c67310e49f6",
   "metadata": {},
   "outputs": [],
   "source": [
    "def get_dataset_partitions_tf(ds,train_split=0.8,val_split=0.1,test_split=0.1,shuffle=True,shuffle_size=10000):\n",
    "    \n",
    "    if shuffle :\n",
    "        ds = ds.shuffle(shuffle_size,seed=12)\n",
    "        \n",
    "    training_batch_size=int(len(ds)*train_split)\n",
    "    val_batch_size=int(len(ds)*val_split)\n",
    "        \n",
    "    train_ds = dataset.take(training_batch_size)\n",
    "    val_ds = dataset.skip(training_batch_size).take(val_batch_size)\n",
    "    test_ds = dataset.skip(training_batch_size).skip(val_batch_size)\n",
    "    return train_ds,val_ds,test_ds "
   ]
  },
  {
   "cell_type": "code",
   "execution_count": 13,
   "id": "eb255a19-0edf-49a2-b804-343e525b0c9a",
   "metadata": {},
   "outputs": [],
   "source": [
    "train_ds,val_ds,test_ds = get_dataset_partitions_tf(dataset)"
   ]
  },
  {
   "cell_type": "code",
   "execution_count": 14,
   "id": "a59cb243-b039-4ce0-9123-d18fef6126f4",
   "metadata": {},
   "outputs": [],
   "source": [
    "train_ds = train_ds.cache().shuffle(10000).prefetch(buffer_size=tf.data.AUTOTUNE)\n",
    "val_ds = val_ds.cache().shuffle(10000).prefetch(buffer_size=tf.data.AUTOTUNE)\n",
    "test_ds = test_ds.cache().shuffle(10000).prefetch(buffer_size=tf.data.AUTOTUNE)"
   ]
  },
  {
   "cell_type": "code",
   "execution_count": 15,
   "id": "9ff60729-5102-4782-ad03-94be5071a635",
   "metadata": {},
   "outputs": [],
   "source": [
    "resize_and_rescale = tf.keras.Sequential([\n",
    "    layers.Resizing(IMAGE_SIZE,IMAGE_SIZE),\n",
    "    layers.Rescaling(1.0/255)\n",
    "])"
   ]
  },
  {
   "cell_type": "code",
   "execution_count": 16,
   "id": "99250095-14fa-4f11-b1a2-cc15d24189b3",
   "metadata": {},
   "outputs": [],
   "source": [
    "data_augmentation = tf.keras.Sequential([\n",
    "  layers.RandomFlip(\"horizontal_and_vertical\"),\n",
    "  layers.RandomRotation(0.2),\n",
    "])\n"
   ]
  },
  {
   "cell_type": "code",
   "execution_count": null,
   "id": "d513c533-9072-4c57-9f8e-13c1126da804",
   "metadata": {},
   "outputs": [],
   "source": [
    "input_shape = (32,IMAGE_SIZE,IMAGE_SIZE,CHANNELS)\n",
    "n_classes = 3\n",
    "\n",
    "model = tf.keras.Sequential([\n",
    "    resize_and_rescale,\n",
    "    data_augmentation,\n",
    "    tf.keras.layers.Conv2D(32,(3,3),activation='relu',input_shape=input_shape),\n",
    "    tf.keras.layers.MaxPool2D((2,2)),\n",
    "    tf.keras.layers.Conv2D(64,(3,3),activation='relu'),\n",
    "    tf.keras.layers.MaxPool2D((2,2)),\n",
    "    tf.keras.layers.Conv2D(64,(3,3),activation='relu'),\n",
    "    tf.keras.layers.MaxPool2D((2,2)),\n",
    "    tf.keras.layers.Conv2D(64,(3,3),activation='relu'),\n",
    "    tf.keras.layers.MaxPool2D((2,2)),\n",
    "    tf.keras.layers.Conv2D(64,(3,3),activation='relu'),\n",
    "    tf.keras.layers.MaxPool2D((2,2)),\n",
    "    tf.keras.layers.Conv2D(64,(3,3),activation='relu'),\n",
    "    tf.keras.layers.MaxPool2D((2,2)),\n",
    "    tf.keras.layers.Flatten(),\n",
    "    tf.keras.layers.Dense(64,activation='relu'),\n",
    "    tf.keras.layers.Dense(n_classes,activation='softmax')\n",
    "])\n",
    "\n",
    "model.build(input_shape=input_shape)"
   ]
  },
  {
   "cell_type": "code",
   "execution_count": null,
   "id": "7ce84971-f45d-4b85-8325-55a674ba4c0b",
   "metadata": {},
   "outputs": [],
   "source": [
    "model.summary()"
   ]
  },
  {
   "cell_type": "code",
   "execution_count": 19,
   "id": "3db6357f-204c-4bab-9aab-16b59a5d92df",
   "metadata": {},
   "outputs": [],
   "source": [
    "model.compile(\n",
    "    optimizer='adam',\n",
    "    loss=tf.keras.losses.SparseCategoricalCrossentropy(from_logits=False),\n",
    "    metrics=['accuracy'],\n",
    "    )\n"
   ]
  },
  {
   "cell_type": "code",
   "execution_count": null,
   "id": "362649d2-a737-4cda-b296-7e5862c7761e",
   "metadata": {},
   "outputs": [],
   "source": [
    "history = model.fit(train_ds,epochs=50,batch_size = BATCH_SIZE,verbose=1,validation_data=val_ds)"
   ]
  },
  {
   "cell_type": "code",
   "execution_count": null,
   "id": "bd335945-463a-4422-9268-d67d4687d69f",
   "metadata": {},
   "outputs": [],
   "source": [
    "scores = model.evaluate(test_ds)"
   ]
  },
  {
   "cell_type": "code",
   "execution_count": null,
   "id": "2e4e922f",
   "metadata": {},
   "outputs": [],
   "source": [
    "for image_labels , batch_labels in test_ds.take(1):\n",
    "    first_image =(image_labels[0].numpy().astype(\"uint8\"))\n",
    "    first_label = classes_name[batch_labels[0]]\n",
    "    print(f\"True Value :  {first_label}\")\n",
    "    plt.imshow(first_image)\n",
    "    predictions = model.predict(image_labels)\n",
    "    print(f'Predicted Value : {classes_name[np.argmax(predictions[0])]}')"
   ]
  },
  {
   "cell_type": "code",
   "execution_count": 68,
   "id": "7abc12c8",
   "metadata": {},
   "outputs": [],
   "source": [
    "def predict(model,img):\n",
    "    img_array = tf.keras.preprocessing.image.img_to_array(images[i].numpy())\n",
    "    img_array = tf.expand_dims(img_array,0)\n",
    "\n",
    "    predictions = model.predict(img_array)\n",
    "\n",
    "    predicted_class = classes_name[np.argmax(predictions[0])]\n",
    "    confidence = round(100*(np.max(predictions[0])),2)\n",
    "    return predicted_class , confidence"
   ]
  },
  {
   "cell_type": "code",
   "execution_count": null,
   "id": "8a5b53f4",
   "metadata": {},
   "outputs": [],
   "source": [
    "plt.figure(figsize = (12,12))\n",
    "for images , labels in test_ds.take(1):\n",
    "    for i in range(9):\n",
    "        ax = plt.subplot(3,3,i+1)\n",
    "        plt.imshow(images[i].numpy().astype('uint8'))\n",
    "        predicted_class , confidence  = predict(model,images[i].numpy())\n",
    "        actual_class = classes_name[labels[i]]\n",
    "        plt.title(f'Actual: {actual_class},\\n Predicted: {predicted_class}')\n",
    "        plt.axis('off')\n",
    "        "
   ]
  },
  {
   "cell_type": "code",
   "execution_count": null,
   "id": "1377ae21",
   "metadata": {},
   "outputs": [],
   "source": [
    "model_version = 1\n",
    "model.save('Path to Save your model')\n"
   ]
  },
  {
   "cell_type": "code",
   "execution_count": null,
   "id": "e547013c",
   "metadata": {},
   "outputs": [],
   "source": []
  },
  {
   "cell_type": "code",
   "execution_count": null,
   "id": "a9c022ba",
   "metadata": {},
   "outputs": [],
   "source": []
  }
 ],
 "metadata": {
  "kernelspec": {
   "display_name": "Python 3",
   "language": "python",
   "name": "python3"
  },
  "language_info": {
   "codemirror_mode": {
    "name": "ipython",
    "version": 3
   },
   "file_extension": ".py",
   "mimetype": "text/x-python",
   "name": "python",
   "nbconvert_exporter": "python",
   "pygments_lexer": "ipython3",
   "version": "3.11.0"
  }
 },
 "nbformat": 4,
 "nbformat_minor": 5
}
